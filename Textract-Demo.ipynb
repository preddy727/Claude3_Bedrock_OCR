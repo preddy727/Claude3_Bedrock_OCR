{
 "cells": [
  {
   "cell_type": "code",
   "execution_count": null,
   "id": "0f7add39-8650-417a-8210-2ced135ec0e9",
   "metadata": {
    "tags": []
   },
   "outputs": [],
   "source": [
    "pip install amazon-textract-textractor"
   ]
  },
  {
   "cell_type": "code",
   "execution_count": null,
   "id": "ad9e3215-e076-4eab-97ac-d29920b0da6d",
   "metadata": {
    "tags": []
   },
   "outputs": [],
   "source": [
    "pip install amazon-textract-textractor[pdf]"
   ]
  },
  {
   "cell_type": "markdown",
   "id": "28372fe0-59dc-408e-98cd-b6db789302b9",
   "metadata": {},
   "source": [
    "# AnalyzeExpense API"
   ]
  },
  {
   "cell_type": "code",
   "execution_count": null,
   "id": "30f50f2a-ae30-499e-b73d-ecafcc7353e8",
   "metadata": {
    "tags": []
   },
   "outputs": [],
   "source": [
    "from textractor import Textractor\n",
    "from PIL import Image\n",
    "\n",
    "extractor = Textractor(profile_name=\"default\")\n",
    "\n",
    "document = extractor.analyze_expense(\n",
    "    file_source=\"CTR_4878.png\",\n",
    "    save_image=True,\n",
    ")"
   ]
  },
  {
   "cell_type": "code",
   "execution_count": null,
   "id": "301ff146-93c8-458f-b0cf-b8bed6b2034f",
   "metadata": {
    "tags": []
   },
   "outputs": [],
   "source": [
    "Image.open(\"CTR_4878.png\")"
   ]
  },
  {
   "cell_type": "code",
   "execution_count": null,
   "id": "0f483707-0ed2-48a5-934a-fe1c28630d3a",
   "metadata": {
    "tags": []
   },
   "outputs": [],
   "source": [
    "document"
   ]
  },
  {
   "cell_type": "code",
   "execution_count": null,
   "id": "5785b6b7-eb2c-440e-9bce-170d1efec56c",
   "metadata": {
    "tags": []
   },
   "outputs": [],
   "source": [
    "from textractor.data.constants import AnalyzeExpenseFields, AnalyzeExpenseFieldsGroup, AnalyzeExpenseLineItemFields"
   ]
  },
  {
   "cell_type": "code",
   "execution_count": null,
   "id": "91c80903-2f10-4b83-9a65-d8526b12ee8d",
   "metadata": {
    "tags": []
   },
   "outputs": [],
   "source": [
    "expense_doc = document.expense_documents[0]\n",
    "expense_doc"
   ]
  },
  {
   "cell_type": "code",
   "execution_count": null,
   "id": "0e5f99d0-0d2b-4f6d-be7a-a1267dba8229",
   "metadata": {
    "tags": []
   },
   "outputs": [],
   "source": [
    "expense_doc.summary_fields"
   ]
  },
  {
   "cell_type": "code",
   "execution_count": null,
   "id": "2beb8b07-334f-442b-a444-937477fe5e6f",
   "metadata": {
    "tags": []
   },
   "outputs": [],
   "source": [
    "#Group summary fields into semantic groups\n",
    "expense_doc.summary_groups"
   ]
  },
  {
   "cell_type": "code",
   "execution_count": null,
   "id": "25eea679-62c0-4a48-bf4b-e21c8b74beff",
   "metadata": {
    "tags": []
   },
   "outputs": [],
   "source": [
    "expense_doc.line_items_groups"
   ]
  },
  {
   "cell_type": "code",
   "execution_count": null,
   "id": "254aded3-f095-4498-bf9d-ada31853f23f",
   "metadata": {},
   "outputs": [],
   "source": [
    "#expense_doc.line_items_groups[0].to_pandas()"
   ]
  },
  {
   "cell_type": "markdown",
   "id": "fe23f2d6-20e3-4c27-9497-1a18c7d8b580",
   "metadata": {},
   "source": [
    "# Layout Analysis"
   ]
  },
  {
   "cell_type": "code",
   "execution_count": null,
   "id": "e5fc1236-6e49-4101-89c7-5326c60c0561",
   "metadata": {
    "tags": []
   },
   "outputs": [],
   "source": [
    "import os\n",
    "from PIL import Image\n",
    "from textractor import Textractor\n",
    "from textractor.visualizers.entitylist import EntityList\n",
    "from textractor.data.constants import TextractFeatures"
   ]
  },
  {
   "cell_type": "code",
   "execution_count": null,
   "id": "1abcc993-b106-4611-941f-57c40dcae3b9",
   "metadata": {
    "tags": []
   },
   "outputs": [],
   "source": [
    "image = Image.open(\"CTR_8809178.png\").convert(\"RGB\")\n",
    "image"
   ]
  },
  {
   "cell_type": "code",
   "execution_count": null,
   "id": "d2896a7f-9be3-48d2-b34b-eb924eab91cc",
   "metadata": {
    "tags": []
   },
   "outputs": [],
   "source": [
    "extractor = Textractor(region_name=\"us-east-1\")\n",
    "\n",
    "document = extractor.analyze_document(\n",
    "    file_source=image,\n",
    "    features=[TextractFeatures.LAYOUT],\n",
    "    save_image=True\n",
    ")"
   ]
  },
  {
   "cell_type": "code",
   "execution_count": null,
   "id": "fcb36638-3801-4d10-9075-f682c9184e42",
   "metadata": {
    "tags": []
   },
   "outputs": [],
   "source": [
    "#Return the layout analyis\n",
    "print(document.pages[0].layouts)\n",
    "document.pages[0].layouts.visualize().convert(\"RGB\")"
   ]
  },
  {
   "cell_type": "code",
   "execution_count": null,
   "id": "60c1ea36-241a-428a-8285-309a84b05f88",
   "metadata": {
    "tags": []
   },
   "outputs": [],
   "source": [
    "#return a subset of the analysis\n",
    "document.pages[0].page_layout.titles[0].text"
   ]
  },
  {
   "cell_type": "code",
   "execution_count": null,
   "id": "90d7cd1e-562e-41b0-bd33-1e84a7cd6782",
   "metadata": {
    "tags": []
   },
   "outputs": [],
   "source": [
    "document.pages[0].page_layout.tables[1].visualize().convert(\"RGB\")"
   ]
  },
  {
   "cell_type": "code",
   "execution_count": null,
   "id": "e26f0a2b-263e-4f29-bb6b-7478e660fc88",
   "metadata": {
    "tags": []
   },
   "outputs": [],
   "source": [
    "bbox = document.pages[0].page_layout.tables[1].bbox\n",
    "width, height = document.pages[0].image.size\n",
    "\n",
    "document.pages[0].image.crop((\n",
    "    bbox.x * width,\n",
    "    bbox.y * height,\n",
    "    (bbox.x + bbox.width) * width,\n",
    "    (bbox.y + bbox.height) * height\n",
    "))"
   ]
  },
  {
   "cell_type": "markdown",
   "id": "1a2b5858-a82c-4d1e-89fa-f623efe5f118",
   "metadata": {},
   "source": [
    "# Layout Analysis for Text Linearization"
   ]
  },
  {
   "cell_type": "code",
   "execution_count": null,
   "id": "28c11010-071b-40a9-8d9a-0e294eedfb96",
   "metadata": {
    "tags": []
   },
   "outputs": [],
   "source": [
    "import os\n",
    "from PIL import Image\n",
    "from textractor import Textractor\n",
    "from textractor.visualizers.entitylist import EntityList\n",
    "from textractor.data.constants import TextractFeatures"
   ]
  },
  {
   "cell_type": "code",
   "execution_count": null,
   "id": "4d05420f-3129-4ceb-9136-dbc4f1d2de4a",
   "metadata": {
    "tags": []
   },
   "outputs": [],
   "source": [
    "image = Image.open(\"ENBRDGE_Pg1.png\")\n",
    "image"
   ]
  },
  {
   "cell_type": "code",
   "execution_count": null,
   "id": "35de3809-25ee-423d-9def-04df4f2c41ac",
   "metadata": {
    "tags": []
   },
   "outputs": [],
   "source": [
    "document = extractor.analyze_document(\n",
    "    file_source=image,\n",
    "    features=[TextractFeatures.LAYOUT],\n",
    "    save_image=True\n",
    ")"
   ]
  },
  {
   "cell_type": "code",
   "execution_count": null,
   "id": "3109a78f-ff8e-47c9-afd6-b8415122e060",
   "metadata": {
    "tags": []
   },
   "outputs": [],
   "source": [
    "print(document.text)"
   ]
  },
  {
   "cell_type": "code",
   "execution_count": null,
   "id": "7a680620-58b0-45df-a093-a6acc9d78736",
   "metadata": {
    "tags": []
   },
   "outputs": [],
   "source": [
    "from textractor.data.text_linearization_config import TextLinearizationConfig\n",
    "\n",
    "config = TextLinearizationConfig(\n",
    "    hide_figure_layout=True,\n",
    "    title_prefix=\"# \",\n",
    "    section_header_prefix=\"## \"\n",
    ")\n",
    "print(document.get_text(config=config))"
   ]
  },
  {
   "cell_type": "markdown",
   "id": "2ec52c9f-f35e-4582-9b8c-184ffb31ab23",
   "metadata": {},
   "source": [
    "# Document Linearization to Markdown"
   ]
  },
  {
   "cell_type": "code",
   "execution_count": null,
   "id": "aab0d052-0598-4370-bfc1-8d4e5f498b2f",
   "metadata": {
    "tags": []
   },
   "outputs": [],
   "source": [
    "extractor = Textractor(region_name=\"us-east-1\")\n",
    "\n",
    "document = extractor.analyze_document(\n",
    "    file_source=image,\n",
    "    features=[TextractFeatures.LAYOUT, TextractFeatures.TABLES, TextractFeatures.FORMS, TextractFeatures.SIGNATURES],\n",
    "    save_image=True\n",
    ")"
   ]
  },
  {
   "cell_type": "code",
   "execution_count": null,
   "id": "3d3dce4e-395e-4961-a8eb-c9b07f255c80",
   "metadata": {
    "tags": []
   },
   "outputs": [],
   "source": [
    "print(document.tables[1].get_text())"
   ]
  },
  {
   "cell_type": "code",
   "execution_count": null,
   "id": "dba4699d-77f1-4473-92b1-654a04dcd230",
   "metadata": {
    "tags": []
   },
   "outputs": [],
   "source": [
    "print(document.tables[1].to_markdown())"
   ]
  },
  {
   "cell_type": "code",
   "execution_count": null,
   "id": "a137c83f-85bb-4be1-b96e-5450add37cca",
   "metadata": {
    "tags": []
   },
   "outputs": [],
   "source": [
    "print(document.key_values.get_text())"
   ]
  },
  {
   "cell_type": "markdown",
   "id": "acc1854d-c94a-4b63-927b-f53023db1119",
   "metadata": {},
   "source": [
    "# Queries"
   ]
  },
  {
   "cell_type": "code",
   "execution_count": null,
   "id": "f1f1611d-fe68-4afb-8760-fca7d2e744a0",
   "metadata": {
    "tags": []
   },
   "outputs": [],
   "source": [
    "from PIL import Image\n",
    "Image.open(\"CTR_8809178.png\")"
   ]
  },
  {
   "cell_type": "code",
   "execution_count": null,
   "id": "a4117dce-66b3-44f6-9e4c-71aa1d0bedd5",
   "metadata": {
    "tags": []
   },
   "outputs": [],
   "source": [
    "queries = [\n",
    "    \"What is the trade date?\",\n",
    "    \"What is the Confirmation Number?\",\n",
    "    \"Who is the Seller?\",\n",
    "    \"Who is the Buyer?\",\n",
    "    \"What is the deal type?\",\n",
    "    \"What is the Delivery Period?\",\n",
    "    \"What is the daily volume elections?\",\n",
    "    \"What is the contract price\",\n",
    "    \"What is the All-in-Price?\"\n",
    "]"
   ]
  },
  {
   "cell_type": "code",
   "execution_count": null,
   "id": "fe2dacbe-9e3e-4ed7-9429-4fffb5576546",
   "metadata": {
    "tags": []
   },
   "outputs": [],
   "source": [
    "import os\n",
    "from textractor import Textractor\n",
    "from textractor.data.constants import TextractFeatures\n",
    "\n",
    "extractor = Textractor(profile_name=\"default\")\n",
    "document = extractor.analyze_document(\n",
    "    file_source=Image.open(\"CTR_8809178.png\"),\n",
    "    features=[TextractFeatures.QUERIES],\n",
    "    queries=queries\n",
    ")"
   ]
  },
  {
   "cell_type": "code",
   "execution_count": null,
   "id": "6c7f2b3e-205f-49a0-8142-2a6d092088aa",
   "metadata": {
    "tags": []
   },
   "outputs": [],
   "source": [
    "document.queries"
   ]
  },
  {
   "cell_type": "code",
   "execution_count": null,
   "id": "4f6d671c-263c-40cb-946d-6c10ef6da14c",
   "metadata": {
    "tags": []
   },
   "outputs": [],
   "source": [
    "for query in document.queries:\n",
    "    if query.result:\n",
    "        print(f\"{query.query}\\n\\tAnswer: {query.result.answer}\\n\\tConfidence: {query.result.confidence}\\n\")\n",
    "    else:\n",
    "        print(f\"{query.query}\\n\\tNo Answer\\n\")"
   ]
  },
  {
   "cell_type": "markdown",
   "id": "b31e827e-754d-4da4-8090-62053fa39dbc",
   "metadata": {},
   "source": [
    "# Large Language Models"
   ]
  },
  {
   "cell_type": "code",
   "execution_count": null,
   "id": "71bee079-fe44-43c5-b057-a3190036e7e6",
   "metadata": {
    "tags": []
   },
   "outputs": [],
   "source": [
    "import os\n",
    "import boto3\n",
    "import json\n",
    "\n",
    "from PIL import Image\n",
    "from textractor import Textractor\n",
    "from textractor.visualizers.entitylist import EntityList\n",
    "from textractor.data.constants import TextractFeatures\n",
    "\n",
    "def get_response_from_claude(context, prompt_data):\n",
    "    body = json.dumps({\n",
    "        \"prompt\": f\"\"\"Human: Given the following document:\n",
    "        {context}\n",
    "        Answer the following:\\n {prompt_data}\n",
    "        Assistant:\"\"\",\n",
    "        \"max_tokens_to_sample\": 2000,\n",
    "        \"top_k\": 1,\n",
    "    })\n",
    "    modelId = f'anthropic.claude-v2' # change this to use a different version from the model provider\n",
    "    accept = '*/*'\n",
    "    contentType = 'application/json'\n",
    "\n",
    "    response = bedrock.invoke_model(body=body, modelId=modelId, accept=accept, contentType=contentType)\n",
    "    response_body = json.loads(response.get('body').read())\n",
    "    answer = response_body.get('completion')\n",
    "\n",
    "    return answer\n",
    "\n",
    "os.environ[\"AWS_DEFAULT_REGION\"] = \"us-east-1\"\n",
    "os.environ[\"BEDROCK_ENDPOINT_URL\"] = \"https://bedrock-runtime.us-east-1.amazonaws.com\"\n",
    "\n",
    "bedrock = boto3.client(service_name='bedrock-runtime',region_name='us-east-1',endpoint_url='https://bedrock-runtime.us-east-1.amazonaws.com')"
   ]
  },
  {
   "cell_type": "code",
   "execution_count": null,
   "id": "b1249b34-931b-41ae-9adc-2b8ebf8b0bb3",
   "metadata": {
    "tags": []
   },
   "outputs": [],
   "source": [
    "image = Image.open(\"CTR_4878.png\").convert(\"RGB\")\n",
    "image"
   ]
  },
  {
   "cell_type": "code",
   "execution_count": null,
   "id": "fe743e4b-c03f-4f65-9377-2dd17d0a36ca",
   "metadata": {
    "tags": []
   },
   "outputs": [],
   "source": [
    "from textractor import Textractor\n",
    "from textractor.data.text_linearization_config import TextLinearizationConfig\n",
    "\n",
    "extractor = Textractor(region_name=\"us-east-1\")\n",
    "document = extractor.analyze_document(\n",
    "    file_source=image,\n",
    "    features=[TextractFeatures.LAYOUT,TextractFeatures.FORMS],\n",
    "    save_image=True\n",
    ")\n",
    "print(document.get_text())"
   ]
  },
  {
   "cell_type": "code",
   "execution_count": null,
   "id": "2e3e012e-06ac-44e6-9d4a-6ff32e1465f7",
   "metadata": {
    "tags": []
   },
   "outputs": [],
   "source": [
    "print(get_response_from_claude(\n",
    "    document.get_text(),\n",
    "    \"\"\"\n",
    "    - What is the contract price?\n",
    "    \"\"\"\n",
    "))"
   ]
  },
  {
   "cell_type": "code",
   "execution_count": null,
   "id": "5e023f06-e0b6-4403-9c9d-4858a3ec4f12",
   "metadata": {},
   "outputs": [],
   "source": []
  }
 ],
 "metadata": {
  "kernelspec": {
   "display_name": "conda_python3",
   "language": "python",
   "name": "conda_python3"
  },
  "language_info": {
   "codemirror_mode": {
    "name": "ipython",
    "version": 3
   },
   "file_extension": ".py",
   "mimetype": "text/x-python",
   "name": "python",
   "nbconvert_exporter": "python",
   "pygments_lexer": "ipython3",
   "version": "3.10.13"
  }
 },
 "nbformat": 4,
 "nbformat_minor": 5
}
